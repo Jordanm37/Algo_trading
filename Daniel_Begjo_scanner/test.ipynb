{
 "cells": [
  {
   "cell_type": "code",
   "execution_count": 2,
   "metadata": {},
   "outputs": [
    {
     "data": {
      "text/html": [
       "\n",
       "        <iframe\n",
       "            width=\"100%\"\n",
       "            height=\"650\"\n",
       "            src=\"http://127.0.0.1:8050/\"\n",
       "            frameborder=\"0\"\n",
       "            allowfullscreen\n",
       "            \n",
       "        ></iframe>\n",
       "        "
      ],
      "text/plain": [
       "<IPython.lib.display.IFrame at 0x22e2827fe10>"
      ]
     },
     "metadata": {},
     "output_type": "display_data"
    }
   ],
   "source": [
    "import dash\n",
    "from dash.dependencies import Output, Input\n",
    "import dash_table\n",
    "import dash_core_components as dcc\n",
    "import dash_html_components as html\n",
    "import pandas as pd\n",
    "import random\n",
    "import string\n",
    "\n",
    "# Simulated data\n",
    "def get_data():\n",
    "    N = 50\n",
    "    df = pd.DataFrame({\n",
    "        'coin': [''.join(random.choices(string.ascii_uppercase + string.digits, k=3)) for _ in range(N)],\n",
    "        'feature_1': [random.random() for _ in range(N)],\n",
    "        'feature_2': [random.random() for _ in range(N)],\n",
    "        'feature_3': [random.random() for _ in range(N)],\n",
    "    })\n",
    "    df['value'] = df['feature_1'] + df['feature_2'] + df['feature_3']  # Or whatever calculation you want\n",
    "    return df\n",
    "\n",
    "# Dash app\n",
    "app = dash.Dash(__name__)\n",
    "\n",
    "app.layout = html.Div([\n",
    "    html.H1('Crypto Scanner Dashboard'),\n",
    "    dash_table.DataTable(\n",
    "        id='table',\n",
    "        columns=[{\"name\": i, \"id\": i} for i in get_data().columns],\n",
    "        sort_action='native',  # enables data to be sorted per-column by user or not ('none', 'native', 'custom')\n",
    "        style_data_conditional=[\n",
    "            {'if': {'filter_query': '{value} > 2.0'}, 'backgroundColor': 'blue', 'color': 'white'}\n",
    "        ]\n",
    "    ),\n",
    "    dcc.Interval(\n",
    "        id='interval-component',\n",
    "        interval=60*1*1000,  # in milliseconds (every 1 second)\n",
    "        n_intervals=0\n",
    "    )\n",
    "])\n",
    "\n",
    "@app.callback(\n",
    "    Output('table', 'data'),\n",
    "    Input('interval-component', 'n_intervals'))\n",
    "def update_table(n):\n",
    "    data = get_data().to_dict('records')\n",
    "    return data\n",
    "\n",
    "if __name__ == '__main__':\n",
    "    app.run_server(debug=True)\n"
   ]
  },
  {
   "cell_type": "code",
   "execution_count": null,
   "metadata": {},
   "outputs": [],
   "source": []
  }
 ],
 "metadata": {
  "kernelspec": {
   "display_name": "Python 3",
   "language": "python",
   "name": "python3"
  },
  "language_info": {
   "codemirror_mode": {
    "name": "ipython",
    "version": 3
   },
   "file_extension": ".py",
   "mimetype": "text/x-python",
   "name": "python",
   "nbconvert_exporter": "python",
   "pygments_lexer": "ipython3",
   "version": "3.11.0"
  },
  "orig_nbformat": 4
 },
 "nbformat": 4,
 "nbformat_minor": 2
}
