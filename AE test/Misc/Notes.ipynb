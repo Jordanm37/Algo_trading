{
 "cells": [
  {
   "cell_type": "markdown",
   "metadata": {},
   "source": []
  },
  {
   "attachments": {},
   "cell_type": "markdown",
   "metadata": {},
   "source": [
    "Data cleaning and preprocessing\n",
    "\n",
    "For EDA (Exploratory Data Analysis) and traditional time series models like ARIMA, it's better to use imputed data. This is because these models rely on the assumption of equally spaced time intervals. You can use interpolation, forward-filling, or other appropriate methods to fill in the missing values.\n",
    "\n",
    "For machine learning models like Random Forest, LightGBM, and LSTM, you can use the original data with missing values. These models can handle irregularly spaced data more effectively and don't rely on the assumption of equally spaced time intervals. However, it's still essential to preprocess and clean your data to ensure that the input features are consistent and meaningful."
   ]
  },
  {
   "attachments": {},
   "cell_type": "markdown",
   "metadata": {},
   "source": [
    "\n"
   ]
  },
  {
   "cell_type": "markdown",
   "metadata": {},
   "source": []
  },
  {
   "cell_type": "markdown",
   "metadata": {},
   "source": []
  },
  {
   "attachments": {},
   "cell_type": "markdown",
   "metadata": {},
   "source": [
    "Discussion/Limitations\n",
    "\n",
    "\n",
    "EDA\n",
    "Apply clustering analysis to the squared returns to find when there are similar periods of high or low volatility to inform modelling and risk management\n",
    "\n",
    "the quality of your data is crucial for the success of your models. It's always a good idea to perform a sensitivity analysis to assess the impact of missing data on your model's performance and make adjustments as needed.\n",
    "\n",
    "\n",
    "\n",
    "\n",
    "Feature engineering:\n",
    "    - Separate the data by time index\n",
    "    - SMA\n",
    "    - MACD\n",
    "    - RSI\n",
    "\n",
    "Model selection/training\n",
    "\n",
    "\n",
    "Optimsation\n",
    "use a grid search or optimization algorithm to find the optimal window size for a given model and dataset. This approach involves trying a range of window sizes and selecting the one that results in the best performance on a validation set. This approach can be computationally intensive, but it can lead to better performance than using a fixed or adaptive window size.\n",
    "\n",
    "USe automl\n",
    "inverstigate different window sizes for splitting training and testing data\n",
    "\n",
    "consider ensembling models to see if prediciton can be improved.  \n",
    "\n",
    "\n",
    "\n",
    "Model evaluation\n",
    "\n",
    "When you have selected the best model, you can perform sensitivity analysis to understand the impact of changes in input features on the forecasted stock prices. This will help you gauge the model's robustness and stability."
   ]
  }
 ],
 "metadata": {
  "language_info": {
   "name": "python"
  },
  "orig_nbformat": 4
 },
 "nbformat": 4,
 "nbformat_minor": 2
}
