{
 "cells": [
  {
   "cell_type": "code",
   "execution_count": 1,
   "metadata": {},
   "outputs": [],
   "source": [
    "from eda_fucntions import *"
   ]
  },
  {
   "cell_type": "code",
   "execution_count": 2,
   "metadata": {},
   "outputs": [],
   "source": [
    "# Load imputed data and calculate returns\n",
    "ts1_i, ts2_i, rt1_i, rt2_i = load_data_and_calculate_returns(\n",
    "    'interpolate_clean_df.csv', imputed=True)\n",
    "# Load non-imputed data and calculate returns\n",
    "ts1_o, ts2_o, rt_1_o, rt_2_o = load_data_and_calculate_returns(\n",
    "    \"Test_data.csv\", imputed=False)"
   ]
  },
  {
   "cell_type": "code",
   "execution_count": 3,
   "metadata": {},
   "outputs": [],
   "source": [
    "# plot normalised time series\n",
    "plot_normalised_price(ts1_o, ts2_o)"
   ]
  },
  {
   "cell_type": "code",
   "execution_count": 4,
   "metadata": {},
   "outputs": [],
   "source": [
    "# non-imputed data\n",
    "plot_series_and_returns(ts1_o, 'ts1_raw')\n",
    "plot_series_and_returns(ts2_o, 'ts2_raw')"
   ]
  },
  {
   "attachments": {},
   "cell_type": "markdown",
   "metadata": {},
   "source": [
    "analyse time series"
   ]
  },
  {
   "cell_type": "code",
   "execution_count": 5,
   "metadata": {},
   "outputs": [],
   "source": [
    "# non-imputed data\n",
    "ts1 = ts1_o\n",
    "ts2 = ts2_o\n",
    "rt1 = rt_1_o\n",
    "rt2 = rt_2_o"
   ]
  },
  {
   "cell_type": "code",
   "execution_count": 6,
   "metadata": {},
   "outputs": [
    {
     "name": "stdout",
     "output_type": "stream",
     "text": [
      "Seasonality analysis for ts1:\n",
      "Seasonality analysis for ts2:\n"
     ]
    }
   ],
   "source": [
    "#seasonality analysis\n",
    "print(\"Seasonality analysis for ts1:\")\n",
    "analyse_seasonality(ts1, 'ts1', freq_list=['H', 'D', 'W'])\n",
    "\n",
    "print(\"Seasonality analysis for ts2:\")\n",
    "analyse_seasonality(ts2, 'ts2', freq_list=['H', 'D', 'W'])"
   ]
  },
  {
   "cell_type": "code",
   "execution_count": 7,
   "metadata": {},
   "outputs": [
    {
     "name": "stdout",
     "output_type": "stream",
     "text": [
      "Spectral analysis for rt1:\n",
      "43805\n",
      "Resampled data for frequency: H\n",
      "The input series is empty.\n",
      "1827\n",
      "Resampled data for frequency: D\n",
      "The input series is empty.\n",
      "262\n",
      "Resampled data for frequency: W\n",
      "The input series is empty.\n",
      "Spectral analysis for rt2:\n",
      "43805\n",
      "Resampled data for frequency: H\n",
      "The input series is empty.\n",
      "1827\n",
      "Resampled data for frequency: D\n",
      "The input series is empty.\n",
      "262\n",
      "Resampled data for frequency: W\n",
      "The input series is empty.\n"
     ]
    }
   ],
   "source": [
    "\n",
    "#spectral analysis\n",
    "print(\"Spectral analysis for rt1:\")\n",
    "spectral_analysis(rt1, 'ts1', freq_list=['H', 'D', 'W'])\n",
    "\n",
    "print(\"Spectral analysis for rt2:\")\n",
    "spectral_analysis(rt2, 'ts2', freq_list=['H', 'D', 'W'])"
   ]
  },
  {
   "attachments": {},
   "cell_type": "markdown",
   "metadata": {},
   "source": [
    "Analyse distribution of log returns\n",
    "- univariate statistics\n",
    "- rolling statistics\n",
    "- box plot\n",
    "- normality\n",
    "- stationarity"
   ]
  },
  {
   "cell_type": "code",
   "execution_count": 8,
   "metadata": {},
   "outputs": [
    {
     "name": "stdout",
     "output_type": "stream",
     "text": [
      "Distribution analysis for log returns:\n",
      "Data statistics:\n",
      "Mean:\n",
      " ts1_raw    2.018239e-07\n",
      "ts2_raw    8.508173e-07\n",
      "dtype: float64\n",
      "Variance:\n",
      " ts1_raw    3.899748e-09\n",
      "ts2_raw    7.653261e-07\n",
      "dtype: float64\n",
      "Covariance:\n",
      "               ts1_raw       ts2_raw\n",
      "ts1_raw  3.899748e-09 -6.087201e-09\n",
      "ts2_raw -6.087201e-09  7.653261e-07\n",
      "Rolling statistics of ts1_raw:\n",
      "Rolling statistics of ts2_raw:\n",
      "Distribution analysis of ts1_raw:\n",
      "Distribution analysis of ts2_raw:\n",
      "Normality analysis:\n",
      "Kolmogorov-Smirnov test for 'ts1_raw': The distribution is not normal (p-value = 0.0)\n",
      "Kolmogorov-Smirnov test for 'ts2_raw': The distribution is not normal (p-value = 0.0)\n",
      "Skewness for ts1_raw: 2.793381452056887\n",
      "Kurtosis for ts1_raw: 206.37894222338264\n",
      "Skewness for ts2_raw: -0.36962540627444856\n",
      "Kurtosis for ts2_raw: 88.24515205506846\n",
      "Stationarity of ts1_raw:\n",
      "Results of Augmented Dickey-Fuller Test:\n",
      "Test Statistic                   -179.081634\n",
      "p-value                             0.000000\n",
      "#Lags Used                          6.000000\n",
      "Number of Observations Used    201213.000000\n",
      "Critical Value (1%)                -3.430382\n",
      "Critical Value (5%)                -2.861554\n",
      "Critical Value (10%)               -2.566778\n",
      "dtype: float64\n",
      "\n",
      "Results of Kwiatkowski-Phillips-Schmidt-Shin Test:\n",
      "Test Statistic            0.28966\n",
      "p-value                   0.10000\n",
      "Lags Used                40.00000\n",
      "Critical Value (10%)      0.34700\n",
      "Critical Value (5%)       0.46300\n",
      "Critical Value (2.5%)     0.57400\n",
      "Critical Value (1%)       0.73900\n",
      "dtype: float64\n",
      "The time series 'ts1_raw' is stationary based on the Augmented Dickey-Fuller test.\n",
      "The time series 'ts1_raw' is stationary based on the Kwiatkowski-Phillips-Schmidt-Shin test.\n",
      "Stationarity of ts2_raw:\n",
      "Results of Augmented Dickey-Fuller Test:\n",
      "Test Statistic                    -50.566742\n",
      "p-value                             0.000000\n",
      "#Lags Used                         80.000000\n",
      "Number of Observations Used    201139.000000\n",
      "Critical Value (1%)                -3.430383\n",
      "Critical Value (5%)                -2.861554\n",
      "Critical Value (10%)               -2.566778\n",
      "dtype: float64\n",
      "\n",
      "Results of Kwiatkowski-Phillips-Schmidt-Shin Test:\n",
      "Test Statistic           0.095612\n",
      "p-value                  0.100000\n",
      "Lags Used                5.000000\n",
      "Critical Value (10%)     0.347000\n",
      "Critical Value (5%)      0.463000\n",
      "Critical Value (2.5%)    0.574000\n",
      "Critical Value (1%)      0.739000\n",
      "dtype: float64\n",
      "The time series 'ts2_raw' is stationary based on the Augmented Dickey-Fuller test.\n",
      "The time series 'ts2_raw' is stationary based on the Kwiatkowski-Phillips-Schmidt-Shin test.\n"
     ]
    }
   ],
   "source": [
    "#distribution analysis\n",
    "rt = pd.concat([rt1, rt2], axis=1)\n",
    "print(\"Distribution analysis for log returns:\")\n",
    "analyse_distribution(rt)"
   ]
  },
  {
   "cell_type": "markdown",
   "metadata": {},
   "source": []
  },
  {
   "cell_type": "code",
   "execution_count": 9,
   "metadata": {},
   "outputs": [
    {
     "name": "stdout",
     "output_type": "stream",
     "text": [
      "Volatility clustering analysis for rt1:\n",
      "ARCH-LM test (Squared Returns): p-value = 0.0000 < 0.05, reject null hypothesis of homoskedasticity.\n",
      "\n",
      "Ljung-Box test for Squared Returns Residuals: 1       0.0\n",
      "2       0.0\n",
      "3       0.0\n",
      "4       0.0\n",
      "5       0.0\n",
      "       ... \n",
      "1227    0.0\n",
      "1228    0.0\n",
      "1229    0.0\n",
      "1230    0.0\n",
      "1231    0.0\n",
      "Name: lb_pvalue, Length: 1231, dtype: float64\n",
      "\n",
      "\n",
      "ARCH-LM test (Absolute Returns): p-value = 0.0000 < 0.05, reject null hypothesis of homoskedasticity.\n",
      "\n",
      "Ljung-Box test for Absolute Returns Residuals: 1         0.0\n",
      "2         0.0\n",
      "3         0.0\n",
      "4         0.0\n",
      "5         0.0\n",
      "         ... \n",
      "174722    0.0\n",
      "174723    0.0\n",
      "174724    0.0\n",
      "174725    0.0\n",
      "174726    0.0\n",
      "Name: lb_pvalue, Length: 174726, dtype: float64\n",
      "\n",
      "\n",
      "Volatility clustering analysis for rt2:\n",
      "ARCH-LM test (Squared Returns): p-value = 0.0000 < 0.05, reject null hypothesis of homoskedasticity.\n",
      "\n",
      "Ljung-Box test for Squared Returns Residuals: 1        0.0\n",
      "2        0.0\n",
      "3        0.0\n",
      "4        0.0\n",
      "5        0.0\n",
      "        ... \n",
      "13789    0.0\n",
      "13790    0.0\n",
      "13791    0.0\n",
      "13792    0.0\n",
      "13793    0.0\n",
      "Name: lb_pvalue, Length: 13793, dtype: float64\n",
      "\n",
      "\n",
      "ARCH-LM test (Absolute Returns): p-value = 0.0000 < 0.05, reject null hypothesis of homoskedasticity.\n",
      "\n",
      "Ljung-Box test for Absolute Returns Residuals: 1         0.0\n",
      "2         0.0\n",
      "3         0.0\n",
      "4         0.0\n",
      "5         0.0\n",
      "         ... \n",
      "190622    0.0\n",
      "190623    0.0\n",
      "190624    0.0\n",
      "190625    0.0\n",
      "190626    0.0\n",
      "Name: lb_pvalue, Length: 190626, dtype: float64\n",
      "\n",
      "\n"
     ]
    }
   ],
   "source": [
    "#volatility clustering analysis\n",
    "print(\"Volatility clustering analysis for rt1:\")\n",
    "assess_and_plot_volatility_clustering(rt1)\n",
    "\n",
    "print(\"Volatility clustering analysis for rt2:\")\n",
    "assess_and_plot_volatility_clustering(rt2)"
   ]
  },
  {
   "cell_type": "markdown",
   "metadata": {},
   "source": []
  },
  {
   "cell_type": "code",
   "execution_count": 10,
   "metadata": {},
   "outputs": [
    {
     "name": "stdout",
     "output_type": "stream",
     "text": [
      "Outlier analysis for rt1 and rt2:\n"
     ]
    },
    {
     "ename": "NameError",
     "evalue": "name 'analyse_outliers' is not defined",
     "output_type": "error",
     "traceback": [
      "\u001b[1;31m---------------------------------------------------------------------------\u001b[0m",
      "\u001b[1;31mNameError\u001b[0m                                 Traceback (most recent call last)",
      "Cell \u001b[1;32mIn[10], line 5\u001b[0m\n\u001b[0;32m      3\u001b[0m rt1_d \u001b[39m=\u001b[39m rt1\u001b[39m.\u001b[39mresample(\u001b[39m'\u001b[39m\u001b[39mH\u001b[39m\u001b[39m'\u001b[39m)\u001b[39m.\u001b[39mmean()\u001b[39m.\u001b[39mdropna()\n\u001b[0;32m      4\u001b[0m rt2_d \u001b[39m=\u001b[39m rt2\u001b[39m.\u001b[39mresample(\u001b[39m'\u001b[39m\u001b[39mH\u001b[39m\u001b[39m'\u001b[39m)\u001b[39m.\u001b[39mmean()\u001b[39m.\u001b[39mdropna()\n\u001b[1;32m----> 5\u001b[0m analyse_outliers(rt1_d, rt2_d, \u001b[39m'\u001b[39m\u001b[39mHourly\u001b[39m\u001b[39m'\u001b[39m)\n\u001b[0;32m      6\u001b[0m rt1_d \u001b[39m=\u001b[39m rt1\u001b[39m.\u001b[39mresample(\u001b[39m'\u001b[39m\u001b[39mD\u001b[39m\u001b[39m'\u001b[39m)\u001b[39m.\u001b[39mmean()\u001b[39m.\u001b[39mdropna()\n\u001b[0;32m      7\u001b[0m rt2_d \u001b[39m=\u001b[39m rt2\u001b[39m.\u001b[39mresample(\u001b[39m'\u001b[39m\u001b[39mD\u001b[39m\u001b[39m'\u001b[39m)\u001b[39m.\u001b[39mmean()\u001b[39m.\u001b[39mdropna()\n",
      "\u001b[1;31mNameError\u001b[0m: name 'analyse_outliers' is not defined"
     ]
    }
   ],
   "source": [
    "#outlier analysis\n",
    "print(\"Outlier analysis for rt1 and rt2:\")\n",
    "rt1_d = rt1.resample('H').mean().dropna()\n",
    "rt2_d = rt2.resample('H').mean().dropna()\n",
    "analyse_outliers(rt1_d, rt2_d, 'Hourly')\n",
    "rt1_d = rt1.resample('D').mean().dropna()\n",
    "rt2_d = rt2.resample('D').mean().dropna()\n",
    "analyse_outliers(rt1_d, rt2_d, 'Daily')"
   ]
  },
  {
   "cell_type": "code",
   "execution_count": null,
   "metadata": {},
   "outputs": [],
   "source": [
    "# imputed data\n",
    "plot_series_and_returns(ts_1, 'ts1_imputed')\n",
    "plot_series_and_returns(ts_2, 'ts2_imputed')"
   ]
  },
  {
   "attachments": {},
   "cell_type": "markdown",
   "metadata": {},
   "source": [
    "analyse time series"
   ]
  },
  {
   "cell_type": "code",
   "execution_count": null,
   "metadata": {},
   "outputs": [],
   "source": [
    "# imputed data\n",
    "ts1 = ts1_i\n",
    "ts2 = ts2_i\n",
    "rt1 = rt1_i\n",
    "rt2 = rt2_i"
   ]
  },
  {
   "cell_type": "code",
   "execution_count": null,
   "metadata": {},
   "outputs": [],
   "source": [
    "#seasonality analysis\n",
    "print(\"Seasonality analysis for ts1:\")\n",
    "analyse_seasonality(ts1, 'ts1', freq_list=['H', 'D', 'W'])\n",
    "\n",
    "print(\"Seasonality analysis for ts2:\")\n",
    "analyse_seasonality(ts2, 'ts2', freq_list=['H', 'D', 'W'])"
   ]
  },
  {
   "cell_type": "code",
   "execution_count": null,
   "metadata": {},
   "outputs": [],
   "source": [
    "\n",
    "#spectral analysis\n",
    "print(\"Spectral analysis for rt1:\")\n",
    "spectral_analysis(rt1, 'ts1', freq_list=['H', 'D', 'W'])\n",
    "\n",
    "print(\"Spectral analysis for rt2:\")\n",
    "spectral_analysis(rt2, 'ts2', freq_list=['H', 'D', 'W'])"
   ]
  },
  {
   "cell_type": "code",
   "execution_count": null,
   "metadata": {},
   "outputs": [],
   "source": [
    "#distribution analysis\n",
    "rt = pd.concat([rt1, rt2], axis=1)\n",
    "print(\"Distribution analysis for log returns:\")\n",
    "analyse_distribution(rt)"
   ]
  },
  {
   "cell_type": "code",
   "execution_count": null,
   "metadata": {},
   "outputs": [],
   "source": [
    "#volatility clustering analysis\n",
    "print(\"Volatility clustering analysis for rt1:\")\n",
    "assess_and_plot_volatility_clustering(rt1)\n",
    "\n",
    "print(\"Volatility clustering analysis for rt2:\")\n",
    "assess_and_plot_volatility_clustering(rt2)"
   ]
  },
  {
   "cell_type": "code",
   "execution_count": null,
   "metadata": {},
   "outputs": [],
   "source": [
    "#outlier analysis\n",
    "print(\"Outlier analysis for rt1 and rt2:\")\n",
    "rt1_d = rt1.resample('H').mean().dropna()\n",
    "rt2_d = rt2.resample('H').mean().dropna()\n",
    "analyse_outliers(rt1_d, rt2_d, 'Hourly')\n",
    "rt1_d = rt1.resample('D').mean().dropna()\n",
    "rt2_d = rt2.resample('D').mean().dropna()\n",
    "analyse_outliers(rt1_d, rt2_d, 'Daily')"
   ]
  },
  {
   "cell_type": "code",
   "execution_count": null,
   "metadata": {},
   "outputs": [],
   "source": [
    "# imputed data\n",
    "plot_series_and_returns(ts_1, 'ts1_imputed')\n",
    "plot_series_and_returns(ts_2, 'ts2_imputed')"
   ]
  },
  {
   "cell_type": "code",
   "execution_count": null,
   "metadata": {},
   "outputs": [],
   "source": []
  }
 ],
 "metadata": {
  "kernelspec": {
   "display_name": "Python 3",
   "language": "python",
   "name": "python3"
  },
  "language_info": {
   "codemirror_mode": {
    "name": "ipython",
    "version": 3
   },
   "file_extension": ".py",
   "mimetype": "text/x-python",
   "name": "python",
   "nbconvert_exporter": "python",
   "pygments_lexer": "ipython3",
   "version": "3.11.0"
  },
  "orig_nbformat": 4
 },
 "nbformat": 4,
 "nbformat_minor": 2
}
